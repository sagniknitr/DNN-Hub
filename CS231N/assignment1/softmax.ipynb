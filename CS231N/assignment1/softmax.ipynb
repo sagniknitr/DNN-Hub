{
 "cells": [
  {
   "cell_type": "markdown",
   "metadata": {
    "tags": [
     "pdf-title"
    ]
   },
   "source": [
    "# Softmax exercise\n",
    "\n",
    "*Complete and hand in this completed worksheet (including its outputs and any supporting code outside of the worksheet) with your assignment submission. For more details see the [assignments page](http://vision.stanford.edu/teaching/cs231n/assignments.html) on the course website.*\n",
    "\n",
    "This exercise is analogous to the SVM exercise. You will:\n",
    "\n",
    "- implement a fully-vectorized **loss function** for the Softmax classifier\n",
    "- implement the fully-vectorized expression for its **analytic gradient**\n",
    "- **check your implementation** with numerical gradient\n",
    "- use a validation set to **tune the learning rate and regularization** strength\n",
    "- **optimize** the loss function with **SGD**\n",
    "- **visualize** the final learned weights\n"
   ]
  },
  {
   "cell_type": "code",
   "execution_count": 1,
   "metadata": {
    "tags": [
     "pdf-ignore"
    ]
   },
   "outputs": [],
   "source": [
    "import random\n",
    "import numpy as np\n",
    "from cs231n.data_utils import load_CIFAR10\n",
    "import matplotlib.pyplot as plt\n",
    "\n",
    "%matplotlib inline\n",
    "plt.rcParams['figure.figsize'] = (10.0, 8.0) # set default size of plots\n",
    "plt.rcParams['image.interpolation'] = 'nearest'\n",
    "plt.rcParams['image.cmap'] = 'gray'\n",
    "\n",
    "# for auto-reloading extenrnal modules\n",
    "# see http://stackoverflow.com/questions/1907993/autoreload-of-modules-in-ipython\n",
    "%load_ext autoreload\n",
    "%autoreload 2"
   ]
  },
  {
   "cell_type": "code",
   "execution_count": 2,
   "metadata": {
    "tags": [
     "pdf-ignore"
    ]
   },
   "outputs": [
    {
     "name": "stdout",
     "output_type": "stream",
     "text": [
      "Train data shape:  (49000, 3073)\n",
      "Train labels shape:  (49000,)\n",
      "Validation data shape:  (1000, 3073)\n",
      "Validation labels shape:  (1000,)\n",
      "Test data shape:  (1000, 3073)\n",
      "Test labels shape:  (1000,)\n",
      "dev data shape:  (500, 3073)\n",
      "dev labels shape:  (500,)\n"
     ]
    }
   ],
   "source": [
    "def get_CIFAR10_data(num_training=49000, num_validation=1000, num_test=1000, num_dev=500):\n",
    "    \"\"\"\n",
    "    Load the CIFAR-10 dataset from disk and perform preprocessing to prepare\n",
    "    it for the linear classifier. These are the same steps as we used for the\n",
    "    SVM, but condensed to a single function.  \n",
    "    \"\"\"\n",
    "    # Load the raw CIFAR-10 data\n",
    "    cifar10_dir = 'cs231n/datasets/cifar-10-batches-py'\n",
    "    \n",
    "    # Cleaning up variables to prevent loading data multiple times (which may cause memory issue)\n",
    "    try:\n",
    "       del X_train, y_train\n",
    "       del X_test, y_test\n",
    "       print('Clear previously loaded data.')\n",
    "    except:\n",
    "       pass\n",
    "\n",
    "    X_train, y_train, X_test, y_test = load_CIFAR10(cifar10_dir)\n",
    "    \n",
    "    # subsample the data\n",
    "    mask = list(range(num_training, num_training + num_validation))\n",
    "    X_val = X_train[mask]\n",
    "    y_val = y_train[mask]\n",
    "    mask = list(range(num_training))\n",
    "    X_train = X_train[mask]\n",
    "    y_train = y_train[mask]\n",
    "    mask = list(range(num_test))\n",
    "    X_test = X_test[mask]\n",
    "    y_test = y_test[mask]\n",
    "    mask = np.random.choice(num_training, num_dev, replace=False)\n",
    "    X_dev = X_train[mask]\n",
    "    y_dev = y_train[mask]\n",
    "    \n",
    "    # Preprocessing: reshape the image data into rows\n",
    "    X_train = np.reshape(X_train, (X_train.shape[0], -1))\n",
    "    X_val = np.reshape(X_val, (X_val.shape[0], -1))\n",
    "    X_test = np.reshape(X_test, (X_test.shape[0], -1))\n",
    "    X_dev = np.reshape(X_dev, (X_dev.shape[0], -1))\n",
    "    \n",
    "    # Normalize the data: subtract the mean image\n",
    "    mean_image = np.mean(X_train, axis = 0)\n",
    "    X_train -= mean_image\n",
    "    X_val -= mean_image\n",
    "    X_test -= mean_image\n",
    "    X_dev -= mean_image\n",
    "    \n",
    "    # add bias dimension and transform into columns\n",
    "    X_train = np.hstack([X_train, np.ones((X_train.shape[0], 1))])\n",
    "    X_val = np.hstack([X_val, np.ones((X_val.shape[0], 1))])\n",
    "    X_test = np.hstack([X_test, np.ones((X_test.shape[0], 1))])\n",
    "    X_dev = np.hstack([X_dev, np.ones((X_dev.shape[0], 1))])\n",
    "    \n",
    "    return X_train, y_train, X_val, y_val, X_test, y_test, X_dev, y_dev\n",
    "\n",
    "\n",
    "# Invoke the above function to get our data.\n",
    "X_train, y_train, X_val, y_val, X_test, y_test, X_dev, y_dev = get_CIFAR10_data()\n",
    "print('Train data shape: ', X_train.shape)\n",
    "print('Train labels shape: ', y_train.shape)\n",
    "print('Validation data shape: ', X_val.shape)\n",
    "print('Validation labels shape: ', y_val.shape)\n",
    "print('Test data shape: ', X_test.shape)\n",
    "print('Test labels shape: ', y_test.shape)\n",
    "print('dev data shape: ', X_dev.shape)\n",
    "print('dev labels shape: ', y_dev.shape)"
   ]
  },
  {
   "cell_type": "markdown",
   "metadata": {},
   "source": [
    "## Softmax Classifier\n",
    "\n",
    "Your code for this section will all be written inside **cs231n/classifiers/softmax.py**. \n"
   ]
  },
  {
   "cell_type": "code",
   "execution_count": 5,
   "metadata": {},
   "outputs": [
    {
     "name": "stdout",
     "output_type": "stream",
     "text": [
      "loss: 2.397159\n",
      "sanity check: 2.302585\n"
     ]
    }
   ],
   "source": [
    "# First implement the naive softmax loss function with nested loops.\n",
    "# Open the file cs231n/classifiers/softmax.py and implement the\n",
    "# softmax_loss_naive function.\n",
    "\n",
    "from cs231n.classifiers.softmax import softmax_loss_naive\n",
    "import time\n",
    "\n",
    "# Generate a random softmax weight matrix and use it to compute the loss.\n",
    "W = np.random.randn(3073, 10) * 0.0001\n",
    "loss, grad = softmax_loss_naive(W, X_dev, y_dev, 0.0)\n",
    "\n",
    "# As a rough sanity check, our loss should be something close to -log(0.1).\n",
    "print('loss: %f' % loss)\n",
    "print('sanity check: %f' % (-np.log(0.1)))"
   ]
  },
  {
   "cell_type": "markdown",
   "metadata": {
    "tags": [
     "pdf-inline"
    ]
   },
   "source": [
    "**Inline Question 1**\n",
    "\n",
    "Why do we expect our loss to be close to -log(0.1)? Explain briefly.**\n",
    "\n",
    "$\\color{blue}{\\textit  Probability of getting correct answer is 0.1 as there are 10 classes.\n",
    "\n"
   ]
  },
  {
   "cell_type": "code",
   "execution_count": 6,
   "metadata": {},
   "outputs": [
    {
     "name": "stdout",
     "output_type": "stream",
     "text": [
      "numerical: 1.026019 analytic: 1.026019, relative error: 6.359722e-08\n",
      "numerical: 2.758382 analytic: 2.758382, relative error: 2.391157e-08\n",
      "numerical: 1.336772 analytic: 1.336772, relative error: 4.625109e-08\n",
      "numerical: -1.151756 analytic: -1.151756, relative error: 3.895800e-09\n",
      "numerical: -3.943448 analytic: -3.943448, relative error: 2.786802e-09\n",
      "numerical: 2.565663 analytic: 2.565663, relative error: 7.636189e-09\n",
      "numerical: 0.033803 analytic: 0.033803, relative error: 1.903726e-06\n",
      "numerical: -1.269503 analytic: -1.269503, relative error: 7.675491e-09\n",
      "numerical: 0.133269 analytic: 0.133269, relative error: 3.859614e-08\n",
      "numerical: 0.451408 analytic: 0.451408, relative error: 4.713196e-08\n",
      "numerical: -1.380702 analytic: -1.380702, relative error: 8.389511e-09\n",
      "numerical: -7.075645 analytic: -7.075645, relative error: 3.766750e-09\n",
      "numerical: 0.786664 analytic: 0.786664, relative error: 5.318695e-08\n",
      "numerical: -3.331053 analytic: -3.331053, relative error: 1.320090e-08\n",
      "numerical: -1.726825 analytic: -1.726825, relative error: 1.081201e-08\n",
      "numerical: -6.955947 analytic: -6.955947, relative error: 3.778128e-09\n",
      "numerical: -1.311060 analytic: -1.311060, relative error: 4.272155e-09\n",
      "numerical: 1.445257 analytic: 1.445257, relative error: 1.640897e-08\n",
      "numerical: -0.393908 analytic: -0.393908, relative error: 2.015551e-07\n",
      "numerical: 1.053532 analytic: 1.053532, relative error: 7.298826e-08\n"
     ]
    }
   ],
   "source": [
    "# Complete the implementation of softmax_loss_naive and implement a (naive)\n",
    "# version of the gradient that uses nested loops.\n",
    "loss, grad = softmax_loss_naive(W, X_dev, y_dev, 0.0)\n",
    "\n",
    "# As we did for the SVM, use numeric gradient checking as a debugging tool.\n",
    "# The numeric gradient should be close to the analytic gradient.\n",
    "from cs231n.gradient_check import grad_check_sparse\n",
    "f = lambda w: softmax_loss_naive(w, X_dev, y_dev, 0.0)[0]\n",
    "grad_numerical = grad_check_sparse(f, W, grad, 10)\n",
    "\n",
    "# similar to SVM case, do another gradient check with regularization\n",
    "loss, grad = softmax_loss_naive(W, X_dev, y_dev, 5e1)\n",
    "f = lambda w: softmax_loss_naive(w, X_dev, y_dev, 5e1)[0]\n",
    "grad_numerical = grad_check_sparse(f, W, grad, 10)"
   ]
  },
  {
   "cell_type": "code",
   "execution_count": 7,
   "metadata": {},
   "outputs": [
    {
     "name": "stdout",
     "output_type": "stream",
     "text": [
      "naive loss: 2.397159e+00 computed in 0.106945s\n",
      "vectorized loss: 2.397159e+00 computed in 0.015628s\n",
      "Loss difference: 0.000000\n",
      "Gradient difference: 0.000000\n"
     ]
    }
   ],
   "source": [
    "# Now that we have a naive implementation of the softmax loss function and its gradient,\n",
    "# implement a vectorized version in softmax_loss_vectorized.\n",
    "# The two versions should compute the same results, but the vectorized version should be\n",
    "# much faster.\n",
    "tic = time.time()\n",
    "loss_naive, grad_naive = softmax_loss_naive(W, X_dev, y_dev, 0.000005)\n",
    "toc = time.time()\n",
    "print('naive loss: %e computed in %fs' % (loss_naive, toc - tic))\n",
    "\n",
    "from cs231n.classifiers.softmax import softmax_loss_vectorized\n",
    "tic = time.time()\n",
    "loss_vectorized, grad_vectorized = softmax_loss_vectorized(W, X_dev, y_dev, 0.000005)\n",
    "toc = time.time()\n",
    "print('vectorized loss: %e computed in %fs' % (loss_vectorized, toc - tic))\n",
    "\n",
    "# As we did for the SVM, we use the Frobenius norm to compare the two versions\n",
    "# of the gradient.\n",
    "grad_difference = np.linalg.norm(grad_naive - grad_vectorized, ord='fro')\n",
    "print('Loss difference: %f' % np.abs(loss_naive - loss_vectorized))\n",
    "print('Gradient difference: %f' % grad_difference)"
   ]
  },
  {
   "cell_type": "code",
   "execution_count": 8,
   "metadata": {
    "tags": [
     "code"
    ]
   },
   "outputs": [
    {
     "name": "stdout",
     "output_type": "stream",
     "text": [
      "Current best val accuracy 0.313 For lr 3.02733496499188e-07 reg 72356.44834933808\n",
      "Current best val accuracy 0.344 For lr 2.3982678246489633e-07 reg 21336.72091706745\n",
      "Current best val accuracy 0.346 For lr 3.7474408484972717e-07 reg 20194.410209746435\n",
      "Current best val accuracy 0.357 For lr 7.198770774435013e-07 reg 14472.43798568695\n",
      "Current best val accuracy 0.366 For lr 8.78198424402048e-07 reg 12251.730965952807\n",
      "Current best val accuracy 0.372 For lr 7.178287970545176e-07 reg 14129.871741080953\n",
      "lr 1.020272e-07 reg 9.731824e+04 train accuracy: 0.281612 val accuracy: 0.291000\n",
      "lr 1.028563e-07 reg 4.397491e+04 train accuracy: 0.310102 val accuracy: 0.328000\n",
      "lr 1.043611e-07 reg 1.435192e+04 train accuracy: 0.347184 val accuracy: 0.363000\n",
      "lr 1.071382e-07 reg 7.066043e+04 train accuracy: 0.299510 val accuracy: 0.315000\n",
      "lr 1.173071e-07 reg 6.543388e+04 train accuracy: 0.305551 val accuracy: 0.315000\n",
      "lr 1.261506e-07 reg 8.122982e+04 train accuracy: 0.288551 val accuracy: 0.295000\n",
      "lr 1.274987e-07 reg 3.392541e+04 train accuracy: 0.321041 val accuracy: 0.339000\n",
      "lr 1.276939e-07 reg 4.535977e+04 train accuracy: 0.311367 val accuracy: 0.330000\n",
      "lr 1.278428e-07 reg 4.568659e+04 train accuracy: 0.309633 val accuracy: 0.331000\n",
      "lr 1.316679e-07 reg 7.773832e+04 train accuracy: 0.308571 val accuracy: 0.315000\n",
      "lr 1.320204e-07 reg 6.212206e+04 train accuracy: 0.300041 val accuracy: 0.313000\n",
      "lr 1.348680e-07 reg 5.522071e+04 train accuracy: 0.298857 val accuracy: 0.318000\n",
      "lr 1.361848e-07 reg 8.979511e+04 train accuracy: 0.287020 val accuracy: 0.300000\n",
      "lr 1.386156e-07 reg 2.912323e+04 train accuracy: 0.327367 val accuracy: 0.335000\n",
      "lr 1.412517e-07 reg 8.451224e+04 train accuracy: 0.292612 val accuracy: 0.302000\n",
      "lr 1.463397e-07 reg 1.167055e+04 train accuracy: 0.353265 val accuracy: 0.365000\n",
      "lr 1.468556e-07 reg 2.574617e+04 train accuracy: 0.321143 val accuracy: 0.328000\n",
      "lr 1.473548e-07 reg 5.410995e+04 train accuracy: 0.303327 val accuracy: 0.315000\n",
      "lr 1.547461e-07 reg 2.456072e+04 train accuracy: 0.331020 val accuracy: 0.346000\n",
      "lr 1.658321e-07 reg 2.363809e+04 train accuracy: 0.324796 val accuracy: 0.349000\n",
      "lr 1.758441e-07 reg 6.029437e+04 train accuracy: 0.305245 val accuracy: 0.319000\n",
      "lr 1.792627e-07 reg 1.977637e+04 train accuracy: 0.333633 val accuracy: 0.350000\n",
      "lr 1.897363e-07 reg 6.531607e+04 train accuracy: 0.288980 val accuracy: 0.307000\n",
      "lr 1.926077e-07 reg 2.095161e+04 train accuracy: 0.342714 val accuracy: 0.352000\n",
      "lr 1.930445e-07 reg 1.331420e+04 train accuracy: 0.350898 val accuracy: 0.366000\n",
      "lr 2.010543e-07 reg 9.269552e+04 train accuracy: 0.295408 val accuracy: 0.312000\n",
      "lr 2.015956e-07 reg 2.791724e+04 train accuracy: 0.329082 val accuracy: 0.333000\n",
      "lr 2.090716e-07 reg 2.078490e+04 train accuracy: 0.330755 val accuracy: 0.346000\n",
      "lr 2.111721e-07 reg 3.972517e+04 train accuracy: 0.317388 val accuracy: 0.332000\n",
      "lr 2.138444e-07 reg 4.441486e+04 train accuracy: 0.303388 val accuracy: 0.319000\n",
      "lr 2.198961e-07 reg 3.876329e+04 train accuracy: 0.316082 val accuracy: 0.330000\n",
      "lr 2.270616e-07 reg 1.799171e+04 train accuracy: 0.336245 val accuracy: 0.354000\n",
      "lr 2.280250e-07 reg 4.220447e+04 train accuracy: 0.309776 val accuracy: 0.327000\n",
      "lr 2.300131e-07 reg 1.131968e+04 train accuracy: 0.353837 val accuracy: 0.369000\n",
      "lr 2.398268e-07 reg 2.133672e+04 train accuracy: 0.332122 val accuracy: 0.344000\n",
      "lr 2.454903e-07 reg 8.738715e+04 train accuracy: 0.292102 val accuracy: 0.314000\n",
      "lr 2.594352e-07 reg 3.126141e+04 train accuracy: 0.321306 val accuracy: 0.337000\n",
      "lr 2.715960e-07 reg 1.860045e+04 train accuracy: 0.339653 val accuracy: 0.348000\n",
      "lr 2.773975e-07 reg 2.879553e+04 train accuracy: 0.313612 val accuracy: 0.326000\n",
      "lr 2.830484e-07 reg 2.234605e+04 train accuracy: 0.328735 val accuracy: 0.345000\n",
      "lr 2.835713e-07 reg 1.881822e+04 train accuracy: 0.331082 val accuracy: 0.355000\n",
      "lr 2.855878e-07 reg 5.832922e+04 train accuracy: 0.310367 val accuracy: 0.326000\n",
      "lr 2.914892e-07 reg 1.753019e+04 train accuracy: 0.343735 val accuracy: 0.358000\n",
      "lr 3.003910e-07 reg 1.140466e+04 train accuracy: 0.349694 val accuracy: 0.361000\n",
      "lr 3.027335e-07 reg 7.235645e+04 train accuracy: 0.293020 val accuracy: 0.313000\n",
      "lr 3.055990e-07 reg 5.106480e+04 train accuracy: 0.286776 val accuracy: 0.303000\n",
      "lr 3.143846e-07 reg 2.612773e+04 train accuracy: 0.315408 val accuracy: 0.328000\n",
      "lr 3.162457e-07 reg 4.155478e+04 train accuracy: 0.295184 val accuracy: 0.306000\n",
      "lr 3.241722e-07 reg 1.336576e+04 train accuracy: 0.346143 val accuracy: 0.348000\n",
      "lr 3.242476e-07 reg 9.204946e+04 train accuracy: 0.295449 val accuracy: 0.316000\n",
      "lr 3.320678e-07 reg 2.261000e+04 train accuracy: 0.328776 val accuracy: 0.344000\n",
      "lr 3.570590e-07 reg 2.702457e+04 train accuracy: 0.329857 val accuracy: 0.340000\n",
      "lr 3.747441e-07 reg 2.019441e+04 train accuracy: 0.337714 val accuracy: 0.346000\n",
      "lr 3.754160e-07 reg 6.317944e+04 train accuracy: 0.294020 val accuracy: 0.304000\n",
      "lr 3.781155e-07 reg 2.436496e+04 train accuracy: 0.329408 val accuracy: 0.341000\n",
      "lr 3.922460e-07 reg 2.026885e+04 train accuracy: 0.327898 val accuracy: 0.333000\n",
      "lr 3.942207e-07 reg 1.293552e+04 train accuracy: 0.348714 val accuracy: 0.365000\n",
      "lr 4.221650e-07 reg 5.617710e+04 train accuracy: 0.294612 val accuracy: 0.299000\n",
      "lr 4.520983e-07 reg 1.844718e+04 train accuracy: 0.335653 val accuracy: 0.355000\n",
      "lr 4.574396e-07 reg 5.226800e+04 train accuracy: 0.297959 val accuracy: 0.299000\n",
      "lr 4.695285e-07 reg 3.365296e+04 train accuracy: 0.323939 val accuracy: 0.336000\n",
      "lr 4.710913e-07 reg 5.042214e+04 train accuracy: 0.306551 val accuracy: 0.337000\n",
      "lr 4.738154e-07 reg 8.154193e+04 train accuracy: 0.284082 val accuracy: 0.287000\n",
      "lr 5.103752e-07 reg 1.734495e+04 train accuracy: 0.343408 val accuracy: 0.361000\n",
      "lr 5.508715e-07 reg 6.981084e+04 train accuracy: 0.298633 val accuracy: 0.310000\n",
      "lr 5.544614e-07 reg 4.653684e+04 train accuracy: 0.310020 val accuracy: 0.314000\n",
      "lr 5.616502e-07 reg 3.429974e+04 train accuracy: 0.311612 val accuracy: 0.327000\n",
      "lr 5.638456e-07 reg 1.390699e+04 train accuracy: 0.349163 val accuracy: 0.357000\n",
      "lr 5.643514e-07 reg 8.781531e+04 train accuracy: 0.275510 val accuracy: 0.284000\n",
      "lr 5.655712e-07 reg 3.966633e+04 train accuracy: 0.300980 val accuracy: 0.316000\n",
      "lr 5.701669e-07 reg 3.227661e+04 train accuracy: 0.306347 val accuracy: 0.320000\n",
      "lr 5.750053e-07 reg 3.594995e+04 train accuracy: 0.308143 val accuracy: 0.321000\n",
      "lr 5.777422e-07 reg 2.275463e+04 train accuracy: 0.319918 val accuracy: 0.346000\n",
      "lr 5.858881e-07 reg 3.768566e+04 train accuracy: 0.302408 val accuracy: 0.319000\n",
      "lr 5.982664e-07 reg 1.891138e+04 train accuracy: 0.327449 val accuracy: 0.336000\n",
      "lr 5.982765e-07 reg 1.501980e+04 train accuracy: 0.338510 val accuracy: 0.355000\n",
      "lr 5.992644e-07 reg 3.429339e+04 train accuracy: 0.322592 val accuracy: 0.318000\n",
      "lr 6.012616e-07 reg 9.270806e+04 train accuracy: 0.269143 val accuracy: 0.264000\n",
      "lr 6.335238e-07 reg 2.829512e+04 train accuracy: 0.322673 val accuracy: 0.338000\n",
      "lr 6.445838e-07 reg 2.186203e+04 train accuracy: 0.333878 val accuracy: 0.354000\n",
      "lr 6.482084e-07 reg 2.134471e+04 train accuracy: 0.322939 val accuracy: 0.343000\n",
      "lr 6.693463e-07 reg 7.324288e+04 train accuracy: 0.280959 val accuracy: 0.291000\n",
      "lr 6.717567e-07 reg 1.676780e+04 train accuracy: 0.338122 val accuracy: 0.347000\n",
      "lr 6.826274e-07 reg 3.340236e+04 train accuracy: 0.319082 val accuracy: 0.328000\n",
      "lr 7.015709e-07 reg 1.356906e+04 train accuracy: 0.344429 val accuracy: 0.358000\n",
      "lr 7.141913e-07 reg 8.610315e+04 train accuracy: 0.302000 val accuracy: 0.319000\n",
      "lr 7.170219e-07 reg 1.237620e+04 train accuracy: 0.344306 val accuracy: 0.352000\n",
      "lr 7.178288e-07 reg 1.412987e+04 train accuracy: 0.346327 val accuracy: 0.372000\n",
      "lr 7.198771e-07 reg 1.447244e+04 train accuracy: 0.346531 val accuracy: 0.357000\n",
      "lr 7.267000e-07 reg 1.284189e+04 train accuracy: 0.335490 val accuracy: 0.352000\n",
      "lr 7.343347e-07 reg 4.601916e+04 train accuracy: 0.303265 val accuracy: 0.320000\n",
      "lr 7.660422e-07 reg 1.842148e+04 train accuracy: 0.327408 val accuracy: 0.337000\n",
      "lr 8.391357e-07 reg 1.144959e+04 train accuracy: 0.350041 val accuracy: 0.357000\n",
      "lr 8.781984e-07 reg 1.225173e+04 train accuracy: 0.345531 val accuracy: 0.366000\n",
      "lr 9.171749e-07 reg 3.164975e+04 train accuracy: 0.309857 val accuracy: 0.323000\n",
      "lr 9.441888e-07 reg 1.120484e+04 train accuracy: 0.342571 val accuracy: 0.345000\n",
      "lr 9.743756e-07 reg 7.979213e+04 train accuracy: 0.279939 val accuracy: 0.293000\n",
      "lr 9.752401e-07 reg 3.458383e+04 train accuracy: 0.311980 val accuracy: 0.313000\n",
      "lr 9.765703e-07 reg 8.909531e+04 train accuracy: 0.276020 val accuracy: 0.291000\n",
      "lr 9.784439e-07 reg 6.149599e+04 train accuracy: 0.289592 val accuracy: 0.310000\n",
      "best validation accuracy achieved during cross-validation: 0.372000\n"
     ]
    }
   ],
   "source": [
    "# Use the validation set to tune hyperparameters (regularization strength and\n",
    "# learning rate). You should experiment with different ranges for the learning\n",
    "# rates and regularization strengths; if you are careful you should be able to\n",
    "# get a classification accuracy of over 0.35 on the validation set.\n",
    "from cs231n.classifiers import Softmax\n",
    "results = {}\n",
    "best_val = -1\n",
    "best_softmax = None\n",
    "learning_rates = [1e-7, 5e-7] # not used\n",
    "regularization_strengths = [2.5e4, 5e4] # not used\n",
    "\n",
    "################################################################################\n",
    "# TODO:                                                                        #\n",
    "# Use the validation set to set the learning rate and regularization strength. #\n",
    "# This should be identical to the validation that you did for the SVM; save    #\n",
    "# the best trained softmax classifer in best_softmax.                          #\n",
    "################################################################################\n",
    "# *****START OF YOUR CODE (DO NOT DELETE/MODIFY THIS LINE)*****\n",
    "\n",
    "cv_num_iters = 1500\n",
    "lr_range = [1e-7, 1e-6]\n",
    "regularization_range = [1e4, 1e5]\n",
    "\n",
    "def sample_hyperparam(valrange,use_log=False):\n",
    "    if use_log:\n",
    "        minval = np.log10(valrange[0])\n",
    "        maxval = np.log10(valrange[1])\n",
    "    else:\n",
    "        minval = valrange[0]\n",
    "        maxval = valrange[1]\n",
    "    randval = np.random.rand()*(maxval-minval) + minval\n",
    "    if use_log:\n",
    "        return 10**randval\n",
    "    else:\n",
    "        return randval\n",
    "    \n",
    "    \n",
    "for _ in range(100):\n",
    "    cv_lr = sample_hyperparam(lr_range,use_log=True)\n",
    "    cv_reg = sample_hyperparam(regularization_range,use_log=True)\n",
    "    cv_softmax = Softmax()\n",
    "    cv_loss_hist = cv_softmax.train(X_train, y_train, learning_rate=cv_lr, reg=cv_reg,\n",
    "                                  num_iters=cv_num_iters, verbose=False)\n",
    "    cv_train_acc = np.mean(y_train == cv_softmax.predict(X_train))\n",
    "    cv_val_acc = np.mean(y_val == cv_softmax.predict(X_val))\n",
    "    results[(cv_lr,cv_reg)] = (cv_train_acc,cv_val_acc)\n",
    "    if cv_val_acc > best_val:\n",
    "        best_softmax = cv_softmax\n",
    "        best_val = cv_val_acc\n",
    "        best_reg = cv_reg\n",
    "        best_lr = cv_lr\n",
    "        print('Current best val accuracy',best_val,'For lr',best_lr,'reg',best_reg)\n",
    "\n",
    "# *****END OF YOUR CODE (DO NOT DELETE/MODIFY THIS LINE)*****\n",
    "    \n",
    "# Print out results.\n",
    "for lr, reg in sorted(results):\n",
    "    train_accuracy, val_accuracy = results[(lr, reg)]\n",
    "    print('lr %e reg %e train accuracy: %f val accuracy: %f' % (\n",
    "                lr, reg, train_accuracy, val_accuracy))\n",
    "    \n",
    "print('best validation accuracy achieved during cross-validation: %f' % best_val)"
   ]
  },
  {
   "cell_type": "code",
   "execution_count": 9,
   "metadata": {},
   "outputs": [
    {
     "name": "stdout",
     "output_type": "stream",
     "text": [
      "softmax on raw pixels final test set accuracy: 0.358000\n"
     ]
    }
   ],
   "source": [
    "# evaluate on test set\n",
    "# Evaluate the best softmax on test set\n",
    "y_test_pred = best_softmax.predict(X_test)\n",
    "test_accuracy = np.mean(y_test == y_test_pred)\n",
    "print('softmax on raw pixels final test set accuracy: %f' % (test_accuracy, ))"
   ]
  },
  {
   "cell_type": "markdown",
   "metadata": {
    "tags": [
     "pdf-inline"
    ]
   },
   "source": [
    "**Inline Question 2** - *True or False*\n",
    "\n",
    "Suppose the overall training loss is defined as the sum of the per-datapoint loss over all training examples. It is possible to add a new datapoint to a training set that would leave the SVM loss unchanged, but this is not the case with the Softmax classifier loss.\n",
    "\n",
    "$\\color{blue}{\\textit Your Answer: }$ False\n",
    "\n",
    "\n",
    "$\\color{blue}{\\textit Your Explanation:  }$ One can add a new datapoint that will exactly match the continious curve the softmax classifier has drawn. That said, it will be much harder than for SVM loss which is just zero outside the margin.\n",
    "\n"
   ]
  },
  {
   "cell_type": "code",
   "execution_count": 10,
   "metadata": {},
   "outputs": [
    {
     "data": {
      "image/png": "[encoded data removed]",
      "text/plain": [
       "<Figure size 432x288 with 10 Axes>"
      ]
     },
     "metadata": {
      "needs_background": "light"
     },
     "output_type": "display_data"
    }
   ],
   "source": [
    "# Visualize the learned weights for each class\n",
    "w = best_softmax.W[:-1,:] # strip out the bias\n",
    "w = w.reshape(32, 32, 3, 10)\n",
    "\n",
    "w_min, w_max = np.min(w), np.max(w)\n",
    "\n",
    "classes = ['plane', 'car', 'bird', 'cat', 'deer', 'dog', 'frog', 'horse', 'ship', 'truck']\n",
    "for i in range(10):\n",
    "    plt.subplot(2, 5, i + 1)\n",
    "    \n",
    "    # Rescale the weights to be between 0 and 255\n",
    "    wimg = 255.0 * (w[:, :, :, i].squeeze() - w_min) / (w_max - w_min)\n",
    "    plt.imshow(wimg.astype('uint8'))\n",
    "    plt.axis('off')\n",
    "    plt.title(classes[i])"
   ]
  },
  {
   "cell_type": "code",
   "execution_count": null,
   "metadata": {},
   "outputs": [],
   "source": []
  }
 ],
 "metadata": {
  "kernelspec": {
   "display_name": "Python 3",
   "language": "python",
   "name": "python3"
  },
  "language_info": {
   "codemirror_mode": {
    "name": "ipython",
    "version": 3
   },
   "file_extension": ".py",
   "mimetype": "text/x-python",
   "name": "python",
   "nbconvert_exporter": "python",
   "pygments_lexer": "ipython3",
   "version": "3.7.3"
  }
 },
 "nbformat": 4,
 "nbformat_minor": 1
}
